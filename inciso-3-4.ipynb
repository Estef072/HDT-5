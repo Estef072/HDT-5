{
 "cells": [
  {
   "attachments": {},
   "cell_type": "markdown",
   "id": "7d531bb5",
   "metadata": {},
   "source": [
    "UNIFICACIÓN DEL INCISO 3 Y 4 Haga un modelo de clasificación, use la variable categórica que hizo con el precio de las\n",
    "casas (barata, media y cara) como variable respuesta.Utilice los modelos con el conjunto de prueba y determine la eficiencia del algoritmo para\n",
    "predecir y clasificar."
   ]
  },
  {
   "cell_type": "code",
   "execution_count": 1,
   "id": "5e57e2e6",
   "metadata": {},
   "outputs": [],
   "source": [
    "import pandas as pd\n",
    "import numpy as np\n",
    "from sklearn.model_selection import train_test_split\n",
    "from sklearn.linear_model import LogisticRegression\n",
    "from sklearn.metrics import accuracy_score, confusion_matrix\n",
    "from sklearn.preprocessing import LabelEncoder\n",
    "\n"
   ]
  },
  {
   "cell_type": "code",
   "execution_count": 2,
   "id": "579742c6",
   "metadata": {},
   "outputs": [],
   "source": [
    "datos = pd.read_csv(\"train.csv\", encoding=\"latin1\")"
   ]
  },
  {
   "cell_type": "code",
   "execution_count": 3,
   "id": "1982b18f",
   "metadata": {},
   "outputs": [],
   "source": [
    "# Seleccionar solo las variables numéricas relevantes\n",
    "numericas = datos.select_dtypes(include='number')\n",
    "numericas = numericas.drop([\"Fireplaces\", \"GarageYrBlt\", \"Id\", \"MSSubClass\", \"WoodDeckSF\", \"OpenPorchSF\", \"EnclosedPorch\", \"3SsnPorch\", \"ScreenPorch\", \"MoSold\", \"YrSold\"], axis=1)"
   ]
  },
  {
   "cell_type": "code",
   "execution_count": 4,
   "id": "b300a2e9",
   "metadata": {},
   "outputs": [
    {
     "name": "stdout",
     "output_type": "stream",
     "text": [
      "Intermedias    490\n",
      "Económicas     487\n",
      "Caras          483\n",
      "Name: Clase, dtype: int64\n"
     ]
    }
   ],
   "source": [
    "# Crear variable respuesta que clasifica las casas en Económicas, Intermedias o Caras\n",
    "terciles = np.percentile(numericas[\"SalePrice\"], [33.33, 66.67])\n",
    "limite_economicas = terciles[0]\n",
    "limite_caras = terciles[1]\n",
    "numericas[\"Clase\"] = pd.cut(numericas[\"SalePrice\"], bins=[0, limite_economicas, limite_caras, float(\"inf\")], labels=[\"Económicas\", \"Intermedias\", \"Caras\"])\n",
    "\n",
    "# Mostrar clasificación de las casas\n",
    "print(numericas[\"Clase\"].value_counts())\n"
   ]
  },
  {
   "cell_type": "code",
   "execution_count": 5,
   "id": "a5f42f39",
   "metadata": {},
   "outputs": [],
   "source": [
    "numericas = numericas.dropna()\n",
    "X = numericas.drop(\"Clase\", axis=1)\n",
    "y = numericas[\"Clase\"]\n",
    "\n",
    "X_train, X_test, y_train, y_test = train_test_split(X, y, test_size=0.2, random_state=42)\n"
   ]
  },
  {
   "cell_type": "code",
   "execution_count": 6,
   "id": "0e36aab2",
   "metadata": {},
   "outputs": [],
   "source": [
    "le = LabelEncoder()\n",
    "y_train = le.fit_transform(y_train)\n",
    "y_test = le.transform(y_test)\n"
   ]
  },
  {
   "cell_type": "code",
   "execution_count": 7,
   "id": "93c4c571",
   "metadata": {},
   "outputs": [
    {
     "name": "stderr",
     "output_type": "stream",
     "text": [
      "c:\\Users\\Alien Ware\\AppData\\Local\\Programs\\Python\\Python310\\lib\\site-packages\\sklearn\\linear_model\\_logistic.py:763: ConvergenceWarning: lbfgs failed to converge (status=1):\n",
      "STOP: TOTAL NO. of ITERATIONS REACHED LIMIT.\n",
      "\n",
      "Increase the number of iterations (max_iter) or scale the data as shown in:\n",
      "    https://scikit-learn.org/stable/modules/preprocessing.html\n",
      "Please also refer to the documentation for alternative solver options:\n",
      "    https://scikit-learn.org/stable/modules/linear_model.html#logistic-regression\n",
      "  n_iter_i = _check_optimize_result(\n"
     ]
    },
    {
     "data": {
      "text/plain": [
       "LogisticRegression(random_state=42)"
      ]
     },
     "execution_count": 7,
     "metadata": {},
     "output_type": "execute_result"
    }
   ],
   "source": [
    "clf = LogisticRegression(random_state=42)\n",
    "clf.fit(X_train, y_train)\n"
   ]
  },
  {
   "cell_type": "code",
   "execution_count": 8,
   "id": "43c88e4d",
   "metadata": {},
   "outputs": [
    {
     "name": "stdout",
     "output_type": "stream",
     "text": [
      "Precisión del modelo:  0.9665271966527197\n"
     ]
    }
   ],
   "source": [
    "y_pred = clf.predict(X_test)\n",
    "print(\"Precisión del modelo: \", accuracy_score(y_test, y_pred))\n"
   ]
  },
  {
   "cell_type": "code",
   "execution_count": 9,
   "id": "0bfbdee0",
   "metadata": {},
   "outputs": [
    {
     "data": {
      "text/plain": [
       "array([[79,  0,  4],\n",
       "       [ 0, 82,  2],\n",
       "       [ 1,  1, 70]], dtype=int64)"
      ]
     },
     "execution_count": 9,
     "metadata": {},
     "output_type": "execute_result"
    }
   ],
   "source": [
    "confusion_matrix(y_test, y_pred)"
   ]
  },
  {
   "cell_type": "code",
   "execution_count": null,
   "id": "7d392cd1",
   "metadata": {},
   "outputs": [],
   "source": []
  }
 ],
 "metadata": {
  "kernelspec": {
   "display_name": "Python 3 (ipykernel)",
   "language": "python",
   "name": "python3"
  },
  "language_info": {
   "codemirror_mode": {
    "name": "ipython",
    "version": 3
   },
   "file_extension": ".py",
   "mimetype": "text/x-python",
   "name": "python",
   "nbconvert_exporter": "python",
   "pygments_lexer": "ipython3",
   "version": "3.10.0"
  }
 },
 "nbformat": 4,
 "nbformat_minor": 5
}
