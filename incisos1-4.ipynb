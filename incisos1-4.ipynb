{
 "cells": [
  {
   "cell_type": "code",
   "execution_count": 6,
   "id": "3b3e8790",
   "metadata": {},
   "outputs": [],
   "source": [
    "import numpy as np\n",
    "import random\n",
    "import pandas as pd\n",
    "from sklearn.model_selection import train_test_split\n",
    "import seaborn as sns\n",
    "from sklearn.tree import DecisionTreeClassifier\n",
    "from sklearn.model_selection import train_test_split\n",
    "from sklearn.metrics import accuracy_score\n",
    "from sklearn.tree import plot_tree\n",
    "from sklearn.impute import SimpleImputer\n",
    "from sklearn.metrics import accuracy_score\n",
    "\n",
    "# Cargar archivo csv\n",
    "datos = pd.read_csv(\"train.csv\", encoding=\"latin1\")"
   ]
  },
  {
   "attachments": {},
   "cell_type": "markdown",
   "id": "6d9d25fc",
   "metadata": {},
   "source": [
    "inciso 1: Use los mismos conjuntos de entrenamiento y prueba que utilizó en las dos hojas anteriores."
   ]
  },
  {
   "cell_type": "code",
   "execution_count": 7,
   "id": "a0eca90e",
   "metadata": {},
   "outputs": [
    {
     "name": "stdout",
     "output_type": "stream",
     "text": [
      "        Id  MSSubClass  LotFrontage  LotArea  OverallQual  OverallCond  \\\n",
      "0        1          60         65.0     8450            7            5   \n",
      "1        2          20         80.0     9600            6            8   \n",
      "2        3          60         68.0    11250            7            5   \n",
      "3        4          70         60.0     9550            7            5   \n",
      "4        5          60         84.0    14260            8            5   \n",
      "...    ...         ...          ...      ...          ...          ...   \n",
      "1455  1456          60         62.0     7917            6            5   \n",
      "1456  1457          20         85.0    13175            6            6   \n",
      "1457  1458          70         66.0     9042            7            9   \n",
      "1458  1459          20         68.0     9717            5            6   \n",
      "1459  1460          20         75.0     9937            5            6   \n",
      "\n",
      "      YearBuilt  YearRemodAdd  MasVnrArea  BsmtFinSF1  ...  WoodDeckSF  \\\n",
      "0          2003          2003       196.0         706  ...           0   \n",
      "1          1976          1976         0.0         978  ...         298   \n",
      "2          2001          2002       162.0         486  ...           0   \n",
      "3          1915          1970         0.0         216  ...           0   \n",
      "4          2000          2000       350.0         655  ...         192   \n",
      "...         ...           ...         ...         ...  ...         ...   \n",
      "1455       1999          2000         0.0           0  ...           0   \n",
      "1456       1978          1988       119.0         790  ...         349   \n",
      "1457       1941          2006         0.0         275  ...           0   \n",
      "1458       1950          1996         0.0          49  ...         366   \n",
      "1459       1965          1965         0.0         830  ...         736   \n",
      "\n",
      "      OpenPorchSF  EnclosedPorch  3SsnPorch  ScreenPorch  PoolArea  MiscVal  \\\n",
      "0              61              0          0            0         0        0   \n",
      "1               0              0          0            0         0        0   \n",
      "2              42              0          0            0         0        0   \n",
      "3              35            272          0            0         0        0   \n",
      "4              84              0          0            0         0        0   \n",
      "...           ...            ...        ...          ...       ...      ...   \n",
      "1455           40              0          0            0         0        0   \n",
      "1456            0              0          0            0         0        0   \n",
      "1457           60              0          0            0         0     2500   \n",
      "1458            0            112          0            0         0        0   \n",
      "1459           68              0          0            0         0        0   \n",
      "\n",
      "      MoSold  YrSold  SalePrice  \n",
      "0          2    2008     208500  \n",
      "1          5    2007     181500  \n",
      "2          9    2008     223500  \n",
      "3          2    2006     140000  \n",
      "4         12    2008     250000  \n",
      "...      ...     ...        ...  \n",
      "1455       8    2007     175000  \n",
      "1456       2    2010     210000  \n",
      "1457       5    2010     266500  \n",
      "1458       4    2010     142125  \n",
      "1459       6    2008     147500  \n",
      "\n",
      "[1121 rows x 38 columns]\n"
     ]
    }
   ],
   "source": [
    "numericas = datos.select_dtypes(include='number')\n",
    "\n",
    "numericas = numericas.dropna(axis=0)\n",
    "random.seed(42)\n",
    "\n",
    "print(numericas)\n",
    "Y = numericas.pop(\"SalePrice\")\n",
    "X = numericas\n",
    "\n",
    "\n",
    "\n",
    "X_train, X_test, y_train, y_test = train_test_split(X, Y, test_size=0.3,train_size=0.7)"
   ]
  },
  {
   "cell_type": "code",
   "execution_count": null,
   "id": "ea11e3f6",
   "metadata": {},
   "outputs": [],
   "source": []
  }
 ],
 "metadata": {
  "kernelspec": {
   "display_name": "Python 3 (ipykernel)",
   "language": "python",
   "name": "python3"
  },
  "language_info": {
   "codemirror_mode": {
    "name": "ipython",
    "version": 3
   },
   "file_extension": ".py",
   "mimetype": "text/x-python",
   "name": "python",
   "nbconvert_exporter": "python",
   "pygments_lexer": "ipython3",
   "version": "3.11.1"
  }
 },
 "nbformat": 4,
 "nbformat_minor": 5
}
